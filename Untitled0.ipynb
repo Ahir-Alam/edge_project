{
  "nbformat": 4,
  "nbformat_minor": 0,
  "metadata": {
    "colab": {
      "provenance": [],
      "authorship_tag": "ABX9TyMuY5Awe6IF7DQAIl0kMLgZ",
      "include_colab_link": true
    },
    "kernelspec": {
      "name": "python3",
      "display_name": "Python 3"
    },
    "language_info": {
      "name": "python"
    }
  },
  "cells": [
    {
      "cell_type": "markdown",
      "metadata": {
        "id": "view-in-github",
        "colab_type": "text"
      },
      "source": [
        "<a href=\"https://colab.research.google.com/github/Ahir-Alam/edge_project/blob/main/Untitled0.ipynb\" target=\"_parent\"><img src=\"https://colab.research.google.com/assets/colab-badge.svg\" alt=\"Open In Colab\"/></a>"
      ]
    },
    {
      "cell_type": "code",
      "execution_count": 24,
      "metadata": {
        "colab": {
          "base_uri": "https://localhost:8080/",
          "height": 255
        },
        "id": "TevXOwAAiaFP",
        "outputId": "04aa995f-9214-4487-8531-3aa896d7c267"
      },
      "outputs": [
        {
          "output_type": "display_data",
          "data": {
            "text/plain": [
              "   anxiety_level  self_esteem  mental_health_history  depression  headache  \\\n",
              "0             14           20                      0          11         2   \n",
              "1             15            8                      1          15         5   \n",
              "2             12           18                      1          14         2   \n",
              "3             16           12                      1          15         4   \n",
              "4             16           28                      0           7         2   \n",
              "\n",
              "   blood_pressure  sleep_quality  breathing_problem  noise_level  \\\n",
              "0               1              2                  4            2   \n",
              "1               3              1                  4            3   \n",
              "2               1              2                  2            2   \n",
              "3               3              1                  3            4   \n",
              "4               3              5                  1            3   \n",
              "\n",
              "   living_conditions  ...  basic_needs  academic_performance  study_load  \\\n",
              "0                  3  ...            2                     3           2   \n",
              "1                  1  ...            2                     1           4   \n",
              "2                  2  ...            2                     2           3   \n",
              "3                  2  ...            2                     2           4   \n",
              "4                  2  ...            3                     4           3   \n",
              "\n",
              "   teacher_student_relationship  future_career_concerns  social_support  \\\n",
              "0                             3                       3               2   \n",
              "1                             1                       5               1   \n",
              "2                             3                       2               2   \n",
              "3                             1                       4               1   \n",
              "4                             1                       2               1   \n",
              "\n",
              "   peer_pressure  extracurricular_activities  bullying  stress_level  \n",
              "0              3                           3         2             1  \n",
              "1              4                           5         5             2  \n",
              "2              3                           2         2             1  \n",
              "3              4                           4         5             2  \n",
              "4              5                           0         5             1  \n",
              "\n",
              "[5 rows x 21 columns]"
            ],
            "text/html": [
              "\n",
              "  <div id=\"df-d484861d-4762-4762-a810-5512c65730b3\" class=\"colab-df-container\">\n",
              "    <div>\n",
              "<style scoped>\n",
              "    .dataframe tbody tr th:only-of-type {\n",
              "        vertical-align: middle;\n",
              "    }\n",
              "\n",
              "    .dataframe tbody tr th {\n",
              "        vertical-align: top;\n",
              "    }\n",
              "\n",
              "    .dataframe thead th {\n",
              "        text-align: right;\n",
              "    }\n",
              "</style>\n",
              "<table border=\"1\" class=\"dataframe\">\n",
              "  <thead>\n",
              "    <tr style=\"text-align: right;\">\n",
              "      <th></th>\n",
              "      <th>anxiety_level</th>\n",
              "      <th>self_esteem</th>\n",
              "      <th>mental_health_history</th>\n",
              "      <th>depression</th>\n",
              "      <th>headache</th>\n",
              "      <th>blood_pressure</th>\n",
              "      <th>sleep_quality</th>\n",
              "      <th>breathing_problem</th>\n",
              "      <th>noise_level</th>\n",
              "      <th>living_conditions</th>\n",
              "      <th>...</th>\n",
              "      <th>basic_needs</th>\n",
              "      <th>academic_performance</th>\n",
              "      <th>study_load</th>\n",
              "      <th>teacher_student_relationship</th>\n",
              "      <th>future_career_concerns</th>\n",
              "      <th>social_support</th>\n",
              "      <th>peer_pressure</th>\n",
              "      <th>extracurricular_activities</th>\n",
              "      <th>bullying</th>\n",
              "      <th>stress_level</th>\n",
              "    </tr>\n",
              "  </thead>\n",
              "  <tbody>\n",
              "    <tr>\n",
              "      <th>0</th>\n",
              "      <td>14</td>\n",
              "      <td>20</td>\n",
              "      <td>0</td>\n",
              "      <td>11</td>\n",
              "      <td>2</td>\n",
              "      <td>1</td>\n",
              "      <td>2</td>\n",
              "      <td>4</td>\n",
              "      <td>2</td>\n",
              "      <td>3</td>\n",
              "      <td>...</td>\n",
              "      <td>2</td>\n",
              "      <td>3</td>\n",
              "      <td>2</td>\n",
              "      <td>3</td>\n",
              "      <td>3</td>\n",
              "      <td>2</td>\n",
              "      <td>3</td>\n",
              "      <td>3</td>\n",
              "      <td>2</td>\n",
              "      <td>1</td>\n",
              "    </tr>\n",
              "    <tr>\n",
              "      <th>1</th>\n",
              "      <td>15</td>\n",
              "      <td>8</td>\n",
              "      <td>1</td>\n",
              "      <td>15</td>\n",
              "      <td>5</td>\n",
              "      <td>3</td>\n",
              "      <td>1</td>\n",
              "      <td>4</td>\n",
              "      <td>3</td>\n",
              "      <td>1</td>\n",
              "      <td>...</td>\n",
              "      <td>2</td>\n",
              "      <td>1</td>\n",
              "      <td>4</td>\n",
              "      <td>1</td>\n",
              "      <td>5</td>\n",
              "      <td>1</td>\n",
              "      <td>4</td>\n",
              "      <td>5</td>\n",
              "      <td>5</td>\n",
              "      <td>2</td>\n",
              "    </tr>\n",
              "    <tr>\n",
              "      <th>2</th>\n",
              "      <td>12</td>\n",
              "      <td>18</td>\n",
              "      <td>1</td>\n",
              "      <td>14</td>\n",
              "      <td>2</td>\n",
              "      <td>1</td>\n",
              "      <td>2</td>\n",
              "      <td>2</td>\n",
              "      <td>2</td>\n",
              "      <td>2</td>\n",
              "      <td>...</td>\n",
              "      <td>2</td>\n",
              "      <td>2</td>\n",
              "      <td>3</td>\n",
              "      <td>3</td>\n",
              "      <td>2</td>\n",
              "      <td>2</td>\n",
              "      <td>3</td>\n",
              "      <td>2</td>\n",
              "      <td>2</td>\n",
              "      <td>1</td>\n",
              "    </tr>\n",
              "    <tr>\n",
              "      <th>3</th>\n",
              "      <td>16</td>\n",
              "      <td>12</td>\n",
              "      <td>1</td>\n",
              "      <td>15</td>\n",
              "      <td>4</td>\n",
              "      <td>3</td>\n",
              "      <td>1</td>\n",
              "      <td>3</td>\n",
              "      <td>4</td>\n",
              "      <td>2</td>\n",
              "      <td>...</td>\n",
              "      <td>2</td>\n",
              "      <td>2</td>\n",
              "      <td>4</td>\n",
              "      <td>1</td>\n",
              "      <td>4</td>\n",
              "      <td>1</td>\n",
              "      <td>4</td>\n",
              "      <td>4</td>\n",
              "      <td>5</td>\n",
              "      <td>2</td>\n",
              "    </tr>\n",
              "    <tr>\n",
              "      <th>4</th>\n",
              "      <td>16</td>\n",
              "      <td>28</td>\n",
              "      <td>0</td>\n",
              "      <td>7</td>\n",
              "      <td>2</td>\n",
              "      <td>3</td>\n",
              "      <td>5</td>\n",
              "      <td>1</td>\n",
              "      <td>3</td>\n",
              "      <td>2</td>\n",
              "      <td>...</td>\n",
              "      <td>3</td>\n",
              "      <td>4</td>\n",
              "      <td>3</td>\n",
              "      <td>1</td>\n",
              "      <td>2</td>\n",
              "      <td>1</td>\n",
              "      <td>5</td>\n",
              "      <td>0</td>\n",
              "      <td>5</td>\n",
              "      <td>1</td>\n",
              "    </tr>\n",
              "  </tbody>\n",
              "</table>\n",
              "<p>5 rows × 21 columns</p>\n",
              "</div>\n",
              "    <div class=\"colab-df-buttons\">\n",
              "\n",
              "  <div class=\"colab-df-container\">\n",
              "    <button class=\"colab-df-convert\" onclick=\"convertToInteractive('df-d484861d-4762-4762-a810-5512c65730b3')\"\n",
              "            title=\"Convert this dataframe to an interactive table.\"\n",
              "            style=\"display:none;\">\n",
              "\n",
              "  <svg xmlns=\"http://www.w3.org/2000/svg\" height=\"24px\" viewBox=\"0 -960 960 960\">\n",
              "    <path d=\"M120-120v-720h720v720H120Zm60-500h600v-160H180v160Zm220 220h160v-160H400v160Zm0 220h160v-160H400v160ZM180-400h160v-160H180v160Zm440 0h160v-160H620v160ZM180-180h160v-160H180v160Zm440 0h160v-160H620v160Z\"/>\n",
              "  </svg>\n",
              "    </button>\n",
              "\n",
              "  <style>\n",
              "    .colab-df-container {\n",
              "      display:flex;\n",
              "      gap: 12px;\n",
              "    }\n",
              "\n",
              "    .colab-df-convert {\n",
              "      background-color: #E8F0FE;\n",
              "      border: none;\n",
              "      border-radius: 50%;\n",
              "      cursor: pointer;\n",
              "      display: none;\n",
              "      fill: #1967D2;\n",
              "      height: 32px;\n",
              "      padding: 0 0 0 0;\n",
              "      width: 32px;\n",
              "    }\n",
              "\n",
              "    .colab-df-convert:hover {\n",
              "      background-color: #E2EBFA;\n",
              "      box-shadow: 0px 1px 2px rgba(60, 64, 67, 0.3), 0px 1px 3px 1px rgba(60, 64, 67, 0.15);\n",
              "      fill: #174EA6;\n",
              "    }\n",
              "\n",
              "    .colab-df-buttons div {\n",
              "      margin-bottom: 4px;\n",
              "    }\n",
              "\n",
              "    [theme=dark] .colab-df-convert {\n",
              "      background-color: #3B4455;\n",
              "      fill: #D2E3FC;\n",
              "    }\n",
              "\n",
              "    [theme=dark] .colab-df-convert:hover {\n",
              "      background-color: #434B5C;\n",
              "      box-shadow: 0px 1px 3px 1px rgba(0, 0, 0, 0.15);\n",
              "      filter: drop-shadow(0px 1px 2px rgba(0, 0, 0, 0.3));\n",
              "      fill: #FFFFFF;\n",
              "    }\n",
              "  </style>\n",
              "\n",
              "    <script>\n",
              "      const buttonEl =\n",
              "        document.querySelector('#df-d484861d-4762-4762-a810-5512c65730b3 button.colab-df-convert');\n",
              "      buttonEl.style.display =\n",
              "        google.colab.kernel.accessAllowed ? 'block' : 'none';\n",
              "\n",
              "      async function convertToInteractive(key) {\n",
              "        const element = document.querySelector('#df-d484861d-4762-4762-a810-5512c65730b3');\n",
              "        const dataTable =\n",
              "          await google.colab.kernel.invokeFunction('convertToInteractive',\n",
              "                                                    [key], {});\n",
              "        if (!dataTable) return;\n",
              "\n",
              "        const docLinkHtml = 'Like what you see? Visit the ' +\n",
              "          '<a target=\"_blank\" href=https://colab.research.google.com/notebooks/data_table.ipynb>data table notebook</a>'\n",
              "          + ' to learn more about interactive tables.';\n",
              "        element.innerHTML = '';\n",
              "        dataTable['output_type'] = 'display_data';\n",
              "        await google.colab.output.renderOutput(dataTable, element);\n",
              "        const docLink = document.createElement('div');\n",
              "        docLink.innerHTML = docLinkHtml;\n",
              "        element.appendChild(docLink);\n",
              "      }\n",
              "    </script>\n",
              "  </div>\n",
              "\n",
              "\n",
              "    <div id=\"df-fbb3ddbf-9563-4e42-9884-754e8e858d76\">\n",
              "      <button class=\"colab-df-quickchart\" onclick=\"quickchart('df-fbb3ddbf-9563-4e42-9884-754e8e858d76')\"\n",
              "                title=\"Suggest charts\"\n",
              "                style=\"display:none;\">\n",
              "\n",
              "<svg xmlns=\"http://www.w3.org/2000/svg\" height=\"24px\"viewBox=\"0 0 24 24\"\n",
              "     width=\"24px\">\n",
              "    <g>\n",
              "        <path d=\"M19 3H5c-1.1 0-2 .9-2 2v14c0 1.1.9 2 2 2h14c1.1 0 2-.9 2-2V5c0-1.1-.9-2-2-2zM9 17H7v-7h2v7zm4 0h-2V7h2v10zm4 0h-2v-4h2v4z\"/>\n",
              "    </g>\n",
              "</svg>\n",
              "      </button>\n",
              "\n",
              "<style>\n",
              "  .colab-df-quickchart {\n",
              "      --bg-color: #E8F0FE;\n",
              "      --fill-color: #1967D2;\n",
              "      --hover-bg-color: #E2EBFA;\n",
              "      --hover-fill-color: #174EA6;\n",
              "      --disabled-fill-color: #AAA;\n",
              "      --disabled-bg-color: #DDD;\n",
              "  }\n",
              "\n",
              "  [theme=dark] .colab-df-quickchart {\n",
              "      --bg-color: #3B4455;\n",
              "      --fill-color: #D2E3FC;\n",
              "      --hover-bg-color: #434B5C;\n",
              "      --hover-fill-color: #FFFFFF;\n",
              "      --disabled-bg-color: #3B4455;\n",
              "      --disabled-fill-color: #666;\n",
              "  }\n",
              "\n",
              "  .colab-df-quickchart {\n",
              "    background-color: var(--bg-color);\n",
              "    border: none;\n",
              "    border-radius: 50%;\n",
              "    cursor: pointer;\n",
              "    display: none;\n",
              "    fill: var(--fill-color);\n",
              "    height: 32px;\n",
              "    padding: 0;\n",
              "    width: 32px;\n",
              "  }\n",
              "\n",
              "  .colab-df-quickchart:hover {\n",
              "    background-color: var(--hover-bg-color);\n",
              "    box-shadow: 0 1px 2px rgba(60, 64, 67, 0.3), 0 1px 3px 1px rgba(60, 64, 67, 0.15);\n",
              "    fill: var(--button-hover-fill-color);\n",
              "  }\n",
              "\n",
              "  .colab-df-quickchart-complete:disabled,\n",
              "  .colab-df-quickchart-complete:disabled:hover {\n",
              "    background-color: var(--disabled-bg-color);\n",
              "    fill: var(--disabled-fill-color);\n",
              "    box-shadow: none;\n",
              "  }\n",
              "\n",
              "  .colab-df-spinner {\n",
              "    border: 2px solid var(--fill-color);\n",
              "    border-color: transparent;\n",
              "    border-bottom-color: var(--fill-color);\n",
              "    animation:\n",
              "      spin 1s steps(1) infinite;\n",
              "  }\n",
              "\n",
              "  @keyframes spin {\n",
              "    0% {\n",
              "      border-color: transparent;\n",
              "      border-bottom-color: var(--fill-color);\n",
              "      border-left-color: var(--fill-color);\n",
              "    }\n",
              "    20% {\n",
              "      border-color: transparent;\n",
              "      border-left-color: var(--fill-color);\n",
              "      border-top-color: var(--fill-color);\n",
              "    }\n",
              "    30% {\n",
              "      border-color: transparent;\n",
              "      border-left-color: var(--fill-color);\n",
              "      border-top-color: var(--fill-color);\n",
              "      border-right-color: var(--fill-color);\n",
              "    }\n",
              "    40% {\n",
              "      border-color: transparent;\n",
              "      border-right-color: var(--fill-color);\n",
              "      border-top-color: var(--fill-color);\n",
              "    }\n",
              "    60% {\n",
              "      border-color: transparent;\n",
              "      border-right-color: var(--fill-color);\n",
              "    }\n",
              "    80% {\n",
              "      border-color: transparent;\n",
              "      border-right-color: var(--fill-color);\n",
              "      border-bottom-color: var(--fill-color);\n",
              "    }\n",
              "    90% {\n",
              "      border-color: transparent;\n",
              "      border-bottom-color: var(--fill-color);\n",
              "    }\n",
              "  }\n",
              "</style>\n",
              "\n",
              "      <script>\n",
              "        async function quickchart(key) {\n",
              "          const quickchartButtonEl =\n",
              "            document.querySelector('#' + key + ' button');\n",
              "          quickchartButtonEl.disabled = true;  // To prevent multiple clicks.\n",
              "          quickchartButtonEl.classList.add('colab-df-spinner');\n",
              "          try {\n",
              "            const charts = await google.colab.kernel.invokeFunction(\n",
              "                'suggestCharts', [key], {});\n",
              "          } catch (error) {\n",
              "            console.error('Error during call to suggestCharts:', error);\n",
              "          }\n",
              "          quickchartButtonEl.classList.remove('colab-df-spinner');\n",
              "          quickchartButtonEl.classList.add('colab-df-quickchart-complete');\n",
              "        }\n",
              "        (() => {\n",
              "          let quickchartButtonEl =\n",
              "            document.querySelector('#df-fbb3ddbf-9563-4e42-9884-754e8e858d76 button');\n",
              "          quickchartButtonEl.style.display =\n",
              "            google.colab.kernel.accessAllowed ? 'block' : 'none';\n",
              "        })();\n",
              "      </script>\n",
              "    </div>\n",
              "\n",
              "    </div>\n",
              "  </div>\n"
            ],
            "application/vnd.google.colaboratory.intrinsic+json": {
              "type": "dataframe"
            }
          },
          "metadata": {}
        }
      ],
      "source": [
        "import pandas as pd\n",
        "\n",
        "df = pd.read_csv('/StressLevelDataset.csv')\n",
        "display(df.head())"
      ]
    },
    {
      "cell_type": "code",
      "source": [
        "df.info()\n"
      ],
      "metadata": {
        "colab": {
          "base_uri": "https://localhost:8080/"
        },
        "id": "yVkVftSkrQrG",
        "outputId": "608b4cc5-ddff-46cd-a2c7-0f3cb46102de"
      },
      "execution_count": 25,
      "outputs": [
        {
          "output_type": "stream",
          "name": "stdout",
          "text": [
            "<class 'pandas.core.frame.DataFrame'>\n",
            "RangeIndex: 1100 entries, 0 to 1099\n",
            "Data columns (total 21 columns):\n",
            " #   Column                        Non-Null Count  Dtype\n",
            "---  ------                        --------------  -----\n",
            " 0   anxiety_level                 1100 non-null   int64\n",
            " 1   self_esteem                   1100 non-null   int64\n",
            " 2   mental_health_history         1100 non-null   int64\n",
            " 3   depression                    1100 non-null   int64\n",
            " 4   headache                      1100 non-null   int64\n",
            " 5   blood_pressure                1100 non-null   int64\n",
            " 6   sleep_quality                 1100 non-null   int64\n",
            " 7   breathing_problem             1100 non-null   int64\n",
            " 8   noise_level                   1100 non-null   int64\n",
            " 9   living_conditions             1100 non-null   int64\n",
            " 10  safety                        1100 non-null   int64\n",
            " 11  basic_needs                   1100 non-null   int64\n",
            " 12  academic_performance          1100 non-null   int64\n",
            " 13  study_load                    1100 non-null   int64\n",
            " 14  teacher_student_relationship  1100 non-null   int64\n",
            " 15  future_career_concerns        1100 non-null   int64\n",
            " 16  social_support                1100 non-null   int64\n",
            " 17  peer_pressure                 1100 non-null   int64\n",
            " 18  extracurricular_activities    1100 non-null   int64\n",
            " 19  bullying                      1100 non-null   int64\n",
            " 20  stress_level                  1100 non-null   int64\n",
            "dtypes: int64(21)\n",
            "memory usage: 180.6 KB\n"
          ]
        }
      ]
    },
    {
      "cell_type": "code",
      "source": [
        "x = df.drop(columns = ['stress_level'])\n",
        "y = df['stress_level']"
      ],
      "metadata": {
        "id": "ZjvRFOna1lxF"
      },
      "execution_count": 26,
      "outputs": []
    },
    {
      "cell_type": "code",
      "source": [
        "from sklearn.model_selection import train_test_split\n",
        "x_train,x_test,y_train,y_test=train_test_split(\n",
        "    x, y, test_size=42 , random_state=2\n",
        ")"
      ],
      "metadata": {
        "id": "OWRd2C-P2M17"
      },
      "execution_count": 27,
      "outputs": []
    },
    {
      "cell_type": "code",
      "source": [
        "#model training and evaluation\n",
        "from sklearn.linear_model import LinearRegression\n",
        "lr = LinearRegression()\n",
        "lr.fit(x_train,y_train)\n",
        "lr.score(x_test, y_test)\n"
      ],
      "metadata": {
        "colab": {
          "base_uri": "https://localhost:8080/"
        },
        "id": "BI0HJEOx26Qt",
        "outputId": "b1ec52f0-d3ab-4c2e-f025-2b9561af1f80"
      },
      "execution_count": 28,
      "outputs": [
        {
          "output_type": "execute_result",
          "data": {
            "text/plain": [
              "0.7781790195355722"
            ]
          },
          "metadata": {},
          "execution_count": 28
        }
      ]
    },
    {
      "cell_type": "code",
      "source": [
        "from sklearn.metrics import mean_squared_error as mse\n",
        "predicted = lr.predict(x_test)\n",
        "error = mse(y_test, predicted) ** .5\n",
        "print(error)"
      ],
      "metadata": {
        "colab": {
          "base_uri": "https://localhost:8080/"
        },
        "id": "moVeVvIq5vZH",
        "outputId": "bac41c2a-f717-4a2d-962c-efaccdc6c8ee"
      },
      "execution_count": 29,
      "outputs": [
        {
          "output_type": "stream",
          "name": "stdout",
          "text": [
            "0.41792961104409215\n"
          ]
        }
      ]
    },
    {
      "cell_type": "code",
      "source": [
        "from sklearn.tree import DecisionTreeRegressor\n",
        "from sklearn.ensemble import RandomForestRegressor\n",
        "from sklearn.linear_model import LinearRegression\n",
        "\n",
        "modles = [RandomForestRegressor(), DecisionTreeRegressor(), LinearRegression()]\n",
        "\n",
        "errors = {}\n",
        "\n",
        "for model in modles:\n",
        "  model.fit(x_train, y_train)\n",
        "  name = type(model).__name__\n",
        "  score = model.score(x_test, y_test)*100\n",
        "  errors[name] = score"
      ],
      "metadata": {
        "id": "9gpibaMk9Ui7"
      },
      "execution_count": 30,
      "outputs": []
    },
    {
      "cell_type": "code",
      "source": [
        "errors"
      ],
      "metadata": {
        "colab": {
          "base_uri": "https://localhost:8080/"
        },
        "id": "0j1rjkBMBjNx",
        "outputId": "63f29b65-99ae-42b7-c439-3e1c64c8291b"
      },
      "execution_count": 31,
      "outputs": [
        {
          "output_type": "execute_result",
          "data": {
            "text/plain": [
              "{'RandomForestRegressor': 85.33416846652268,\n",
              " 'DecisionTreeRegressor': 84.88120950323975,\n",
              " 'LinearRegression': 77.81790195355723}"
            ]
          },
          "metadata": {},
          "execution_count": 31
        }
      ]
    },
    {
      "cell_type": "code",
      "source": [
        "import matplotlib.pyplot as plt\n",
        "plt.bar(errors.keys(), errors.values())"
      ],
      "metadata": {
        "colab": {
          "base_uri": "https://localhost:8080/",
          "height": 447
        },
        "id": "O9AVv8suCDie",
        "outputId": "fbbc21e7-1644-4919-83b1-6de189397829"
      },
      "execution_count": 32,
      "outputs": [
        {
          "output_type": "execute_result",
          "data": {
            "text/plain": [
              "<BarContainer object of 3 artists>"
            ]
          },
          "metadata": {},
          "execution_count": 32
        },
        {
          "output_type": "display_data",
          "data": {
            "text/plain": [
              "<Figure size 640x480 with 1 Axes>"
            ],
            "image/png": "[encoded data removed]"
          },
          "metadata": {}
        }
      ]
    },
    {
      "cell_type": "code",
      "source": [
        "import matplotlib.pyplot as plt\n",
        "\n",
        "cute_colors = ['#FFB6B9', '#FFDAC1', '#E2F0CB', '#B5EAD7', '#C7CEEA']\n",
        "\n",
        "plt.figure(figsize = (8, 6))\n",
        "bars = plt.bar(errors.keys(), errors.values(), color = cute_colors[:len(errors)])\n",
        "\n",
        "for bar in bars:\n",
        "  bar.set_linewidth(0)\n",
        "  bar.set_edgecolor('none')\n",
        "  bar.set_zorder(3)\n",
        "\n",
        "plt.title('chart', fontsize = 16, fontweight = 'bold', color = '#a974BF')\n",
        "plt.xlabel('Models', fontsize = 12, color = '#6C5B7B')\n",
        "plt.ylabel('R_values', fontsize = 12, color = '#6C5B7B')\n",
        "\n",
        "\n",
        "plt.gca().set_facecolor('#FFF0F5')\n",
        "plt.grid(axis = 'y', linestyle = '--', alpha = 0.4)\n",
        "\n",
        "\n",
        "plt.gca().spines['top'].set_visible(False)\n",
        "plt.gca().spines['right'].set_visible(False)\n",
        "\n",
        "plt.tight_layout()\n",
        "plt.show()\n",
        "\n",
        "#Evaluating matrics, confusion matrics, precision recall f1score\n"
      ],
      "metadata": {
        "colab": {
          "base_uri": "https://localhost:8080/",
          "height": 607
        },
        "id": "6tDI-UNhE1R4",
        "outputId": "63d35fdd-fe8a-41a2-e3b3-a9471f13b476"
      },
      "execution_count": 33,
      "outputs": [
        {
          "output_type": "display_data",
          "data": {
            "text/plain": [
              "<Figure size 800x600 with 1 Axes>"
            ],
            "image/png": "[encoded data removed]"
          },
          "metadata": {}
        }
      ]
    },
    {
      "cell_type": "code",
      "source": [
        "from sklearn.linear_model import LogisticRegression\n",
        "\n",
        "log_reg = LogisticRegression(max_iter=1000)\n",
        "log_reg.fit(x_train, y_train)\n",
        "y_pred = log_reg.predict(x_test)\n",
        "\n",
        "print(\"🔹 Logistic Regression\")\n",
        "print(\"Accuracy:\", log_reg.score(x_test, y_test) * 100, \"%\")\n",
        "print(\"Confusion Matrix:\\n\", confusion_matrix(y_test, y_pred))\n",
        "print(\"Classification Report:\\n\", classification_report(y_test, y_pred))\n"
      ],
      "metadata": {
        "colab": {
          "base_uri": "https://localhost:8080/"
        },
        "id": "PXKR9S-j8jYw",
        "outputId": "7ba47c31-24f2-40b2-fc5d-dca27ec7391c"
      },
      "execution_count": 34,
      "outputs": [
        {
          "output_type": "stream",
          "name": "stdout",
          "text": [
            "🔹 Logistic Regression\n",
            "Accuracy: 88.09523809523809 %\n",
            "Confusion Matrix:\n",
            " [[20  0  2]\n",
            " [ 1  6  0]\n",
            " [ 2  0 11]]\n",
            "Classification Report:\n",
            "               precision    recall  f1-score   support\n",
            "\n",
            "           0       0.87      0.91      0.89        22\n",
            "           1       1.00      0.86      0.92         7\n",
            "           2       0.85      0.85      0.85        13\n",
            "\n",
            "    accuracy                           0.88        42\n",
            "   macro avg       0.91      0.87      0.89        42\n",
            "weighted avg       0.88      0.88      0.88        42\n",
            "\n"
          ]
        }
      ]
    },
    {
      "cell_type": "code",
      "source": [
        "from sklearn.tree import DecisionTreeClassifier\n",
        "\n",
        "dt = DecisionTreeClassifier()\n",
        "dt.fit(x_train, y_train)\n",
        "y_pred = dt.predict(x_test)\n",
        "\n",
        "print(\"🔹 Decision Tree\")\n",
        "print(\"Accuracy:\", dt.score(x_test, y_test) * 100, \"%\")\n",
        "print(\"Confusion Matrix:\\n\", confusion_matrix(y_test, y_pred))\n",
        "print(\"Classification Report:\\n\", classification_report(y_test, y_pred))\n"
      ],
      "metadata": {
        "colab": {
          "base_uri": "https://localhost:8080/"
        },
        "id": "NdabOX7h8trp",
        "outputId": "3c3e3b1c-f235-4df0-bd3d-7ce29b036e23"
      },
      "execution_count": 35,
      "outputs": [
        {
          "output_type": "stream",
          "name": "stdout",
          "text": [
            "🔹 Decision Tree\n",
            "Accuracy: 92.85714285714286 %\n",
            "Confusion Matrix:\n",
            " [[20  1  1]\n",
            " [ 0  6  1]\n",
            " [ 0  0 13]]\n",
            "Classification Report:\n",
            "               precision    recall  f1-score   support\n",
            "\n",
            "           0       1.00      0.91      0.95        22\n",
            "           1       0.86      0.86      0.86         7\n",
            "           2       0.87      1.00      0.93        13\n",
            "\n",
            "    accuracy                           0.93        42\n",
            "   macro avg       0.91      0.92      0.91        42\n",
            "weighted avg       0.93      0.93      0.93        42\n",
            "\n"
          ]
        }
      ]
    },
    {
      "cell_type": "code",
      "source": [
        "from sklearn.ensemble import RandomForestClassifier\n",
        "\n",
        "rf = RandomForestClassifier()\n",
        "rf.fit(x_train, y_train)\n",
        "y_pred = rf.predict(x_test)\n",
        "\n",
        "print(\"🔹 Random Forest\")\n",
        "print(\"Accuracy:\", rf.score(x_test, y_test) * 100, \"%\")\n",
        "print(\"Confusion Matrix:\\n\", confusion_matrix(y_test, y_pred))\n",
        "print(\"Classification Report:\\n\", classification_report(y_test, y_pred))\n"
      ],
      "metadata": {
        "colab": {
          "base_uri": "https://localhost:8080/"
        },
        "id": "zW2ww-kH8zCl",
        "outputId": "14fd764c-ad69-45a0-9d28-2adeca42f55f"
      },
      "execution_count": 36,
      "outputs": [
        {
          "output_type": "stream",
          "name": "stdout",
          "text": [
            "🔹 Random Forest\n",
            "Accuracy: 88.09523809523809 %\n",
            "Confusion Matrix:\n",
            " [[21  0  1]\n",
            " [ 0  6  1]\n",
            " [ 3  0 10]]\n",
            "Classification Report:\n",
            "               precision    recall  f1-score   support\n",
            "\n",
            "           0       0.88      0.95      0.91        22\n",
            "           1       1.00      0.86      0.92         7\n",
            "           2       0.83      0.77      0.80        13\n",
            "\n",
            "    accuracy                           0.88        42\n",
            "   macro avg       0.90      0.86      0.88        42\n",
            "weighted avg       0.88      0.88      0.88        42\n",
            "\n"
          ]
        }
      ]
    },
    {
      "cell_type": "code",
      "source": [
        "from sklearn.svm import SVC\n",
        "\n",
        "svc = SVC()\n",
        "svc.fit(x_train, y_train)\n",
        "y_pred = svc.predict(x_test)\n",
        "\n",
        "print(\"🔹 Support Vector Classifier\")\n",
        "print(\"Accuracy:\", svc.score(x_test, y_test) * 100, \"%\")\n",
        "print(\"Confusion Matrix:\\n\", confusion_matrix(y_test, y_pred))\n",
        "print(\"Classification Report:\\n\", classification_report(y_test, y_pred))\n"
      ],
      "metadata": {
        "colab": {
          "base_uri": "https://localhost:8080/"
        },
        "id": "cEiL9Tml83CB",
        "outputId": "d13a3312-df5d-4b97-a2d6-275fa2f665fb"
      },
      "execution_count": 37,
      "outputs": [
        {
          "output_type": "stream",
          "name": "stdout",
          "text": [
            "🔹 Support Vector Classifier\n",
            "Accuracy: 92.85714285714286 %\n",
            "Confusion Matrix:\n",
            " [[20  0  2]\n",
            " [ 1  6  0]\n",
            " [ 0  0 13]]\n",
            "Classification Report:\n",
            "               precision    recall  f1-score   support\n",
            "\n",
            "           0       0.95      0.91      0.93        22\n",
            "           1       1.00      0.86      0.92         7\n",
            "           2       0.87      1.00      0.93        13\n",
            "\n",
            "    accuracy                           0.93        42\n",
            "   macro avg       0.94      0.92      0.93        42\n",
            "weighted avg       0.93      0.93      0.93        42\n",
            "\n"
          ]
        }
      ]
    },
    {
      "cell_type": "code",
      "source": [
        "from sklearn.naive_bayes import GaussianNB\n",
        "\n",
        "nb = GaussianNB()\n",
        "nb.fit(x_train, y_train)\n",
        "y_pred = nb.predict(x_test)\n",
        "\n",
        "print(\"🔹 Naive Bayes\")\n",
        "print(\"Accuracy:\", nb.score(x_test, y_test) * 100, \"%\")\n",
        "print(\"Confusion Matrix:\\n\", confusion_matrix(y_test, y_pred))\n",
        "print(\"Classification Report:\\n\", classification_report(y_test, y_pred))\n"
      ],
      "metadata": {
        "colab": {
          "base_uri": "https://localhost:8080/"
        },
        "id": "nVy-lV1B86T5",
        "outputId": "cfb14e5b-2fb6-46d8-fb1d-2b7265ac8046"
      },
      "execution_count": 38,
      "outputs": [
        {
          "output_type": "stream",
          "name": "stdout",
          "text": [
            "🔹 Naive Bayes\n",
            "Accuracy: 92.85714285714286 %\n",
            "Confusion Matrix:\n",
            " [[20  0  2]\n",
            " [ 0  6  1]\n",
            " [ 0  0 13]]\n",
            "Classification Report:\n",
            "               precision    recall  f1-score   support\n",
            "\n",
            "           0       1.00      0.91      0.95        22\n",
            "           1       1.00      0.86      0.92         7\n",
            "           2       0.81      1.00      0.90        13\n",
            "\n",
            "    accuracy                           0.93        42\n",
            "   macro avg       0.94      0.92      0.92        42\n",
            "weighted avg       0.94      0.93      0.93        42\n",
            "\n"
          ]
        }
      ]
    },
    {
      "cell_type": "code",
      "source": [
        "from sklearn.neighbors import KNeighborsClassifier\n",
        "\n",
        "knn = KNeighborsClassifier(n_neighbors=5)\n",
        "knn.fit(x_train, y_train)\n",
        "y_pred = knn.predict(x_test)\n",
        "\n",
        "print(\"🔹 KNN\")\n",
        "print(\"Accuracy:\", knn.score(x_test, y_test) * 100, \"%\")\n",
        "print(\"Confusion Matrix:\\n\", confusion_matrix(y_test, y_pred))\n",
        "print(\"Classification Report:\\n\", classification_report(y_test, y_pred))\n"
      ],
      "metadata": {
        "colab": {
          "base_uri": "https://localhost:8080/"
        },
        "id": "kWSjDf_I89ZP",
        "outputId": "8399a25e-d52d-4a36-9f2f-ccb43bcf0458"
      },
      "execution_count": 39,
      "outputs": [
        {
          "output_type": "stream",
          "name": "stdout",
          "text": [
            "🔹 KNN\n",
            "Accuracy: 95.23809523809523 %\n",
            "Confusion Matrix:\n",
            " [[21  0  1]\n",
            " [ 1  6  0]\n",
            " [ 0  0 13]]\n",
            "Classification Report:\n",
            "               precision    recall  f1-score   support\n",
            "\n",
            "           0       0.95      0.95      0.95        22\n",
            "           1       1.00      0.86      0.92         7\n",
            "           2       0.93      1.00      0.96        13\n",
            "\n",
            "    accuracy                           0.95        42\n",
            "   macro avg       0.96      0.94      0.95        42\n",
            "weighted avg       0.95      0.95      0.95        42\n",
            "\n"
          ]
        }
      ]
    },
    {
      "cell_type": "code",
      "source": [
        "from sklearn.ensemble import GradientBoostingClassifier\n",
        "\n",
        "gb = GradientBoostingClassifier()\n",
        "gb.fit(x_train, y_train)\n",
        "y_pred = gb.predict(x_test)\n",
        "\n",
        "print(\"🔹 Gradient Boosting\")\n",
        "print(\"Accuracy:\", gb.score(x_test, y_test) * 100, \"%\")\n",
        "print(\"Confusion Matrix:\\n\", confusion_matrix(y_test, y_pred))\n",
        "print(\"Classification Report:\\n\", classification_report(y_test, y_pred))\n"
      ],
      "metadata": {
        "colab": {
          "base_uri": "https://localhost:8080/"
        },
        "id": "qz3L1Zhs9A9Y",
        "outputId": "5bf35072-6bf9-4ebe-d0a9-e6a87a08e4dc"
      },
      "execution_count": 40,
      "outputs": [
        {
          "output_type": "stream",
          "name": "stdout",
          "text": [
            "🔹 Gradient Boosting\n",
            "Accuracy: 92.85714285714286 %\n",
            "Confusion Matrix:\n",
            " [[20  2  0]\n",
            " [ 0  6  1]\n",
            " [ 0  0 13]]\n",
            "Classification Report:\n",
            "               precision    recall  f1-score   support\n",
            "\n",
            "           0       1.00      0.91      0.95        22\n",
            "           1       0.75      0.86      0.80         7\n",
            "           2       0.93      1.00      0.96        13\n",
            "\n",
            "    accuracy                           0.93        42\n",
            "   macro avg       0.89      0.92      0.91        42\n",
            "weighted avg       0.94      0.93      0.93        42\n",
            "\n"
          ]
        }
      ]
    },
    {
      "cell_type": "code",
      "source": [
        "from sklearn.ensemble import AdaBoostClassifier\n",
        "\n",
        "ab = AdaBoostClassifier()\n",
        "ab.fit(x_train, y_train)\n",
        "y_pred = ab.predict(x_test)\n",
        "\n",
        "print(\"🔹 AdaBoost\")\n",
        "print(\"Accuracy:\", ab.score(x_test, y_test) * 100, \"%\")\n",
        "print(\"Confusion Matrix:\\n\", confusion_matrix(y_test, y_pred))\n",
        "print(\"Classification Report:\\n\", classification_report(y_test, y_pred))\n"
      ],
      "metadata": {
        "colab": {
          "base_uri": "https://localhost:8080/"
        },
        "id": "pe442rQ29EOs",
        "outputId": "696bcca6-1944-461a-d2db-048f820d7049"
      },
      "execution_count": 41,
      "outputs": [
        {
          "output_type": "stream",
          "name": "stdout",
          "text": [
            "🔹 AdaBoost\n",
            "Accuracy: 90.47619047619048 %\n",
            "Confusion Matrix:\n",
            " [[20  1  1]\n",
            " [ 0  6  1]\n",
            " [ 1  0 12]]\n",
            "Classification Report:\n",
            "               precision    recall  f1-score   support\n",
            "\n",
            "           0       0.95      0.91      0.93        22\n",
            "           1       0.86      0.86      0.86         7\n",
            "           2       0.86      0.92      0.89        13\n",
            "\n",
            "    accuracy                           0.90        42\n",
            "   macro avg       0.89      0.90      0.89        42\n",
            "weighted avg       0.91      0.90      0.91        42\n",
            "\n"
          ]
        }
      ]
    }
  ]
}